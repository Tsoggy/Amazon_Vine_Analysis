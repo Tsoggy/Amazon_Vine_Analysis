{
  "nbformat": 4,
  "nbformat_minor": 0,
  "metadata": {
    "colab": {
      "name": "Amazon_Reviews_ETL.ipynb",
      "provenance": [],
      "collapsed_sections": [],
      "include_colab_link": true
    },
    "kernelspec": {
      "name": "python3",
      "display_name": "Python 3"
    },
    "nteract": {
      "version": "0.12.3"
    },
    "language_info": {
      "name": "python"
    }
  },
  "cells": [
    {
      "cell_type": "markdown",
      "metadata": {
        "id": "view-in-github",
        "colab_type": "text"
      },
      "source": [
        "<a href=\"https://colab.research.google.com/github/Tsoggy/Amazon_Vine_Analysis/blob/main/Amazon_Reviews_ETL.ipynb\" target=\"_parent\"><img src=\"https://colab.research.google.com/assets/colab-badge.svg\" alt=\"Open In Colab\"/></a>"
      ]
    },
    {
      "cell_type": "code",
      "metadata": {
        "id": "V58rxea0HqSa",
        "colab": {
          "base_uri": "https://localhost:8080/"
        },
        "outputId": "6d4d5755-887e-4768-a36b-0b053c0c8cd7"
      },
      "source": [
        "import os\n",
        "# Find the latest version of spark 3.0 from http://www.apache.org/dist/spark/ and enter as the spark version\n",
        "# For example:\n",
        "# spark_version = 'spark-3.0.3'\n",
        "spark_version = 'spark-3.2.1'\n",
        "os.environ['SPARK_VERSION']=spark_version\n",
        "\n",
        "# Install Spark and Java\n",
        "!apt-get update\n",
        "!apt-get install openjdk-11-jdk-headless -qq > /dev/null\n",
        "!wget -q http://www.apache.org/dist/spark/$SPARK_VERSION/$SPARK_VERSION-bin-hadoop2.7.tgz\n",
        "!tar xf $SPARK_VERSION-bin-hadoop2.7.tgz\n",
        "!pip install -q findspark\n",
        "\n",
        "# Set Environment Variables\n",
        "import os\n",
        "os.environ[\"JAVA_HOME\"] = \"/usr/lib/jvm/java-11-openjdk-amd64\"\n",
        "os.environ[\"SPARK_HOME\"] = f\"/content/{spark_version}-bin-hadoop2.7\"\n",
        "\n",
        "# Start a SparkSession\n",
        "import findspark\n",
        "findspark.init()"
      ],
      "execution_count": null,
      "outputs": [
        {
          "output_type": "stream",
          "name": "stdout",
          "text": [
            "\r0% [Working]\r            \rGet:1 http://security.ubuntu.com/ubuntu bionic-security InRelease [88.7 kB]\n",
            "\r0% [Connecting to archive.ubuntu.com (91.189.88.142)] [1 InRelease 14.2 kB/88.7\r                                                                               \rHit:2 https://cloud.r-project.org/bin/linux/ubuntu bionic-cran40/ InRelease\n",
            "Ign:3 https://developer.download.nvidia.com/compute/cuda/repos/ubuntu1804/x86_64  InRelease\n",
            "Hit:4 http://ppa.launchpad.net/c2d4u.team/c2d4u4.0+/ubuntu bionic InRelease\n",
            "Hit:5 http://archive.ubuntu.com/ubuntu bionic InRelease\n",
            "Ign:6 https://developer.download.nvidia.com/compute/machine-learning/repos/ubuntu1804/x86_64  InRelease\n",
            "Hit:7 https://developer.download.nvidia.com/compute/cuda/repos/ubuntu1804/x86_64  Release\n",
            "Hit:8 https://developer.download.nvidia.com/compute/machine-learning/repos/ubuntu1804/x86_64  Release\n",
            "Get:9 http://archive.ubuntu.com/ubuntu bionic-updates InRelease [88.7 kB]\n",
            "Hit:10 http://ppa.launchpad.net/cran/libgit2/ubuntu bionic InRelease\n",
            "Hit:11 http://ppa.launchpad.net/deadsnakes/ppa/ubuntu bionic InRelease\n",
            "Get:12 http://archive.ubuntu.com/ubuntu bionic-backports InRelease [74.6 kB]\n",
            "Hit:13 http://ppa.launchpad.net/graphics-drivers/ppa/ubuntu bionic InRelease\n",
            "Fetched 252 kB in 3s (95.7 kB/s)\n",
            "Reading package lists... Done\n"
          ]
        }
      ]
    },
    {
      "cell_type": "code",
      "metadata": {
        "id": "_xKwTpATHqSe",
        "colab": {
          "base_uri": "https://localhost:8080/"
        },
        "outputId": "663530c4-635f-4b14-f9e8-c132e876bd63"
      },
      "source": [
        "# Download the Postgres driver that will allow Spark to interact with Postgres.\n",
        "!wget https://jdbc.postgresql.org/download/postgresql-42.2.16.jar"
      ],
      "execution_count": null,
      "outputs": [
        {
          "output_type": "stream",
          "name": "stdout",
          "text": [
            "--2022-02-13 23:04:41--  https://jdbc.postgresql.org/download/postgresql-42.2.16.jar\n",
            "Resolving jdbc.postgresql.org (jdbc.postgresql.org)... 72.32.157.228, 2001:4800:3e1:1::228\n",
            "Connecting to jdbc.postgresql.org (jdbc.postgresql.org)|72.32.157.228|:443... connected.\n",
            "HTTP request sent, awaiting response... 200 OK\n",
            "Length: 1002883 (979K) [application/java-archive]\n",
            "Saving to: ‘postgresql-42.2.16.jar.1’\n",
            "\n",
            "postgresql-42.2.16. 100%[===================>] 979.38K  --.-KB/s    in 0.1s    \n",
            "\n",
            "2022-02-13 23:04:41 (6.49 MB/s) - ‘postgresql-42.2.16.jar.1’ saved [1002883/1002883]\n",
            "\n"
          ]
        }
      ]
    },
    {
      "cell_type": "code",
      "metadata": {
        "id": "MMqDAjVS0KN9"
      },
      "source": [
        "from pyspark.sql import SparkSession\n",
        "spark = SparkSession.builder.appName(\"M16-Amazon-Challenge\").config(\"spark.driver.extraClassPath\",\"/content/postgresql-42.2.16.jar\").getOrCreate()"
      ],
      "execution_count": null,
      "outputs": []
    },
    {
      "cell_type": "markdown",
      "metadata": {
        "id": "cyBsySGuY-9V"
      },
      "source": [
        "### Load Amazon Data into Spark DataFrame"
      ]
    },
    {
      "cell_type": "code",
      "metadata": {
        "id": "CtCmBhQJY-9Z",
        "colab": {
          "base_uri": "https://localhost:8080/"
        },
        "outputId": "11d42513-88b2-400e-95c6-484b5113b81f"
      },
      "source": [
        "from pyspark import SparkFiles\n",
        "url = \"https://s3.amazonaws.com/amazon-reviews-pds/tsv/amazon_reviews_us_Digital_Music_Purchase_v1_00.tsv.gz\"\n",
        "spark.sparkContext.addFile(url)\n",
        "df = spark.read.option(\"encoding\", \"UTF-8\").csv(SparkFiles.get(\"\"), sep=\"\\t\", header=True, inferSchema=True)\n",
        "df.show()"
      ],
      "execution_count": null,
      "outputs": [
        {
          "output_type": "stream",
          "name": "stdout",
          "text": [
            "+-----------+-----------+--------------+----------+--------------+--------------------+--------------------+-----------+-------------+-----------+----+-----------------+--------------------+--------------------+-----------+\n",
            "|marketplace|customer_id|     review_id|product_id|product_parent|       product_title|    product_category|star_rating|helpful_votes|total_votes|vine|verified_purchase|     review_headline|         review_body|review_date|\n",
            "+-----------+-----------+--------------+----------+--------------+--------------------+--------------------+-----------+-------------+-----------+----+-----------------+--------------------+--------------------+-----------+\n",
            "|         US|   10293599|R14LVB34Z2Z53I|B000YMOQZY|     262935067|Knockin' On Heave...|Digital_Music_Pur...|          5|            0|          0|   N|                Y|           favorites|Great  rendition....| 2015-08-31|\n",
            "|         US|    6087195|R2M0R9CWPC82LT|B00ISAEC80|     452318038|            Flawless|Digital_Music_Pur...|          5|            0|          0|   N|                Y|          Five Stars|A good music to l...| 2015-08-31|\n",
            "|         US|   33717063| RQNQI2R3BM52A|B00VBB6AVU|     675969129|    Scandal of Grace|Digital_Music_Pur...|          4|            0|          0|   N|                Y|                Good|Not as good as th...| 2015-08-31|\n",
            "|         US|   14948020| RTUIX1135HUAB|B008A5POJO|     282925893|  I Surrender (Live)|Digital_Music_Pur...|          5|            0|          0|   N|                Y|Wonderful lyrics!...|Time to worship a...| 2015-08-31|\n",
            "|         US|   21694522| RE3QSAT8TL010|B014CW2RN4|     109077793|We Are Young (Jer...|Digital_Music_Pur...|          4|            0|          0|   N|                Y|Hot remix but too...|So this should be...| 2015-08-31|\n",
            "|         US|   14948020|R14TN65IY0NUOD|B00DRA3EOY|     959245080|        Lord, I Live|Digital_Music_Pur...|          5|            0|          0|   N|                Y|          Five Stars|Clint Brown is an...| 2015-08-31|\n",
            "|         US|   20031966|R3LIF8MCNH1ODF|B009G3U0PW|     762436916|  I'll Never Be Free|Digital_Music_Pur...|          5|            0|          0|   N|                Y|\"I'll never be fr...|LaVerne Butler is...| 2015-08-31|\n",
            "|         US|   12223745|R33X0DGA4PPQ3L|B013XBYQOS|     137980344|    All of the Stars|Digital_Music_Pur...|          5|            3|          3|   N|                N| long awaited treat!|For some reason I...| 2015-08-31|\n",
            "|         US|   30231876|R2DJJP7DQRT1ZW|B003L5H25W|     165995375|Exile On Main Str...|Digital_Music_Pur...|          5|            0|          1|   N|                Y|          Five Stars|The Stones at the...| 2015-08-31|\n",
            "|         US|   51714365|R2A8XDXW5XOT4H|B00136NVH4|     227508666|     Bat Out Of Hell|Digital_Music_Pur...|          5|            0|          0|   N|                Y|    Transcends Time.|    Simply the best.| 2015-08-31|\n",
            "|         US|   37216001|R3MJK3L7ER61TT|B0030AKPQ6|     164096943|Stronger Than Her...|Digital_Music_Pur...|          5|            0|          0|   N|                N|I Love The Flirta...|A very early hit ...| 2015-08-31|\n",
            "|         US|   49207156|R38Z7XMCVDR0R5|B014EQE0V0|     714368268|You Hold It All (...|Digital_Music_Pur...|          5|            1|          1|   N|                Y|          Five Stars|Inspired by this ...| 2015-08-31|\n",
            "|         US|    2472364|R3FFESBQXPR7S6|B00USW4ZVU|      50310906|   Pressure - Single|Digital_Music_Pur...|          4|            0|          0|   N|                Y|Talented new gosp...|Great new artist....| 2015-08-31|\n",
            "|         US|   22612468|R3QO6Z942CKH34|B00ZZDJAX0|     162295903|What Are The Chan...|Digital_Music_Pur...|          5|            1|          1|   N|                Y|        Awesome song|Great song off th...| 2015-08-31|\n",
            "|         US|    2254795|R297119MDWMG9P|B014DIWONU|      44838453|Beauty Behind The...|Digital_Music_Pur...|          5|            0|          0|   N|                Y|I love every song...|The weeknd is a m...| 2015-08-31|\n",
            "|         US|   12408664| R7EJRSXIXMLIY|B005DPTQNE|     454271984|It's The Huck-A-B...|Digital_Music_Pur...|          5|            0|          0|   N|                Y|          Five Stars|       Sounds great!| 2015-08-31|\n",
            "|         US|   36236254|R2EBGPZD0B3TSV|B004LI9ATO|     519024911|  Two Purple Shadows|Digital_Music_Pur...|          5|            0|          0|   N|                N|An oldie,,, but i...|An oldie , , , bu...| 2015-08-31|\n",
            "|         US|   10456004|R229VSSFBNB90C|B00984QCM4|     647155979|         Consolation|Digital_Music_Pur...|          5|            0|          0|   N|                Y|          Five Stars|               great| 2015-08-31|\n",
            "|         US|   16822806|R12YCDYTDBJH3X|B00ZKCAK4O|     346522639|One Man Army [Exp...|Digital_Music_Pur...|          5|            0|          0|   N|                Y|One Man Army! Dow...|Real Sh*t Right H...| 2015-08-31|\n",
            "|         US|   30704319|R3DEVUNGQ2Y98S|B014GWCW8K|     260814213|Without You (feat...|Digital_Music_Pur...|          5|            0|          0|   N|                Y|          Five Stars|      Press Forward!| 2015-08-31|\n",
            "+-----------+-----------+--------------+----------+--------------+--------------------+--------------------+-----------+-------------+-----------+----+-----------------+--------------------+--------------------+-----------+\n",
            "only showing top 20 rows\n",
            "\n"
          ]
        }
      ]
    },
    {
      "cell_type": "markdown",
      "metadata": {
        "id": "2yUSe55VY-9t"
      },
      "source": [
        "### Create DataFrames to match tables"
      ]
    },
    {
      "cell_type": "code",
      "metadata": {
        "id": "C8REmY1aY-9u"
      },
      "source": [
        "from pyspark.sql.functions import to_date\n",
        "# Read in the Review dataset as a DataFrame\n"
      ],
      "execution_count": null,
      "outputs": []
    },
    {
      "cell_type": "code",
      "metadata": {
        "id": "B0TESUDRY-90",
        "colab": {
          "base_uri": "https://localhost:8080/"
        },
        "outputId": "959d9cf7-8c20-472e-e28c-afc5c8677951"
      },
      "source": [
        "# Create the customers_table DataFrame\n",
        "customers_df = df.groupby(\"customer_id\").agg({\"customer_id\": \"count\"}).withColumnRenamed(\"count(customer_id)\", \"customer_count\")\n",
        "customers_df.show()"
      ],
      "execution_count": null,
      "outputs": [
        {
          "output_type": "stream",
          "name": "stdout",
          "text": [
            "+-----------+--------------+\n",
            "|customer_id|customer_count|\n",
            "+-----------+--------------+\n",
            "|   39290568|             1|\n",
            "|   23601866|             1|\n",
            "|   19004376|             1|\n",
            "|   16320823|             1|\n",
            "|   13973119|             1|\n",
            "|    1155154|             1|\n",
            "|   24317024|             2|\n",
            "|   15125275|             1|\n",
            "|   35781732|             2|\n",
            "|   40985731|            12|\n",
            "|   19522542|             1|\n",
            "|   50243180|             1|\n",
            "|    2702985|             1|\n",
            "|   41857916|             1|\n",
            "|    1943933|             2|\n",
            "|   42050930|             5|\n",
            "|    4867895|             1|\n",
            "|   46317087|             3|\n",
            "|   52021773|             2|\n",
            "|   15504622|             9|\n",
            "+-----------+--------------+\n",
            "only showing top 20 rows\n",
            "\n"
          ]
        }
      ]
    },
    {
      "cell_type": "code",
      "metadata": {
        "id": "4FwXA6UvY-96",
        "colab": {
          "base_uri": "https://localhost:8080/"
        },
        "outputId": "a38b4cb7-49ce-4a7f-f707-0d558cda5445"
      },
      "source": [
        "# Create the products_table DataFrame and drop duplicates. \n",
        "products_df = df.select([\"product_id\", \"product_title\"]).drop_duplicates()\n",
        "products_df.show()"
      ],
      "execution_count": null,
      "outputs": [
        {
          "output_type": "stream",
          "name": "stdout",
          "text": [
            "+----------+--------------------+\n",
            "|product_id|       product_title|\n",
            "+----------+--------------------+\n",
            "|B014PO1708|       See You Again|\n",
            "|B001APIS9Y|What Happened to ...|\n",
            "|B005XT4CAW|I Can Dream About...|\n",
            "|B006WH9FPQ|  If You Want To Fly|\n",
            "|B0026G2MG6|Ghetto Fabolous [...|\n",
            "|B0096RUQZW|       Call Me Maybe|\n",
            "|B003YZGVFQ|Maxwell's silver ...|\n",
            "|B00138B7N2|He Touched Me (Al...|\n",
            "|B00OLF0U3M|Beyond The Lights...|\n",
            "|B007D89P76|A Hampshire Suite...|\n",
            "|B0011U5E1S|             Nirvana|\n",
            "|B00JWFMVNS|Sousa (Red Classics)|\n",
            "|B00120EDBY|Talkin' To You Ey...|\n",
            "|B00IWI3HNO|          Sweet Life|\n",
            "|B00YIB4KJY|                Fall|\n",
            "|B0011ZVFIO|Carmel City (LP V...|\n",
            "|B00C32RB4Q|         Lola Montez|\n",
            "|B001NTZ4NA|Thug Lovin' (Albu...|\n",
            "|B001BHJZN4|      Eye In The Sky|\n",
            "|B005SR8QO2|      My Kinda Party|\n",
            "+----------+--------------------+\n",
            "only showing top 20 rows\n",
            "\n"
          ]
        }
      ]
    },
    {
      "cell_type": "code",
      "metadata": {
        "id": "MkqyCuNQY-9-",
        "colab": {
          "base_uri": "https://localhost:8080/"
        },
        "outputId": "0557bbc8-01b1-47f2-eaba-e346964f5356"
      },
      "source": [
        "# Create the review_id_table DataFrame. \n",
        "# Convert the 'review_date' column to a date datatype with to_date(\"review_date\", 'yyyy-MM-dd').alias(\"review_date\")\n",
        "review_id_df = df.select([\"review_id\", \"customer_id\", \"product_id\", \"product_parent\", to_date(\"review_date\", 'yyyy-MM-dd').alias(\"review_date\")])\n",
        "review_id_df.show()"
      ],
      "execution_count": null,
      "outputs": [
        {
          "output_type": "stream",
          "name": "stdout",
          "text": [
            "+--------------+-----------+----------+--------------+-----------+\n",
            "|     review_id|customer_id|product_id|product_parent|review_date|\n",
            "+--------------+-----------+----------+--------------+-----------+\n",
            "|R14LVB34Z2Z53I|   10293599|B000YMOQZY|     262935067| 2015-08-31|\n",
            "|R2M0R9CWPC82LT|    6087195|B00ISAEC80|     452318038| 2015-08-31|\n",
            "| RQNQI2R3BM52A|   33717063|B00VBB6AVU|     675969129| 2015-08-31|\n",
            "| RTUIX1135HUAB|   14948020|B008A5POJO|     282925893| 2015-08-31|\n",
            "| RE3QSAT8TL010|   21694522|B014CW2RN4|     109077793| 2015-08-31|\n",
            "|R14TN65IY0NUOD|   14948020|B00DRA3EOY|     959245080| 2015-08-31|\n",
            "|R3LIF8MCNH1ODF|   20031966|B009G3U0PW|     762436916| 2015-08-31|\n",
            "|R33X0DGA4PPQ3L|   12223745|B013XBYQOS|     137980344| 2015-08-31|\n",
            "|R2DJJP7DQRT1ZW|   30231876|B003L5H25W|     165995375| 2015-08-31|\n",
            "|R2A8XDXW5XOT4H|   51714365|B00136NVH4|     227508666| 2015-08-31|\n",
            "|R3MJK3L7ER61TT|   37216001|B0030AKPQ6|     164096943| 2015-08-31|\n",
            "|R38Z7XMCVDR0R5|   49207156|B014EQE0V0|     714368268| 2015-08-31|\n",
            "|R3FFESBQXPR7S6|    2472364|B00USW4ZVU|      50310906| 2015-08-31|\n",
            "|R3QO6Z942CKH34|   22612468|B00ZZDJAX0|     162295903| 2015-08-31|\n",
            "|R297119MDWMG9P|    2254795|B014DIWONU|      44838453| 2015-08-31|\n",
            "| R7EJRSXIXMLIY|   12408664|B005DPTQNE|     454271984| 2015-08-31|\n",
            "|R2EBGPZD0B3TSV|   36236254|B004LI9ATO|     519024911| 2015-08-31|\n",
            "|R229VSSFBNB90C|   10456004|B00984QCM4|     647155979| 2015-08-31|\n",
            "|R12YCDYTDBJH3X|   16822806|B00ZKCAK4O|     346522639| 2015-08-31|\n",
            "|R3DEVUNGQ2Y98S|   30704319|B014GWCW8K|     260814213| 2015-08-31|\n",
            "+--------------+-----------+----------+--------------+-----------+\n",
            "only showing top 20 rows\n",
            "\n"
          ]
        }
      ]
    },
    {
      "cell_type": "code",
      "metadata": {
        "id": "lzMmkdKmY--D",
        "colab": {
          "base_uri": "https://localhost:8080/"
        },
        "outputId": "d3f7311b-0b3a-4147-d7f9-7ac0752cb349"
      },
      "source": [
        "# Create the vine_table. DataFrame\n",
        "vine_df = df.select([\"review_id\", \"star_rating\", \"helpful_votes\", \"total_votes\", \"vine\", \"verified_purchase\"])\n",
        "vine_df.show()"
      ],
      "execution_count": null,
      "outputs": [
        {
          "output_type": "stream",
          "name": "stdout",
          "text": [
            "+--------------+-----------+-------------+-----------+----+-----------------+\n",
            "|     review_id|star_rating|helpful_votes|total_votes|vine|verified_purchase|\n",
            "+--------------+-----------+-------------+-----------+----+-----------------+\n",
            "|R14LVB34Z2Z53I|          5|            0|          0|   N|                Y|\n",
            "|R2M0R9CWPC82LT|          5|            0|          0|   N|                Y|\n",
            "| RQNQI2R3BM52A|          4|            0|          0|   N|                Y|\n",
            "| RTUIX1135HUAB|          5|            0|          0|   N|                Y|\n",
            "| RE3QSAT8TL010|          4|            0|          0|   N|                Y|\n",
            "|R14TN65IY0NUOD|          5|            0|          0|   N|                Y|\n",
            "|R3LIF8MCNH1ODF|          5|            0|          0|   N|                Y|\n",
            "|R33X0DGA4PPQ3L|          5|            3|          3|   N|                N|\n",
            "|R2DJJP7DQRT1ZW|          5|            0|          1|   N|                Y|\n",
            "|R2A8XDXW5XOT4H|          5|            0|          0|   N|                Y|\n",
            "|R3MJK3L7ER61TT|          5|            0|          0|   N|                N|\n",
            "|R38Z7XMCVDR0R5|          5|            1|          1|   N|                Y|\n",
            "|R3FFESBQXPR7S6|          4|            0|          0|   N|                Y|\n",
            "|R3QO6Z942CKH34|          5|            1|          1|   N|                Y|\n",
            "|R297119MDWMG9P|          5|            0|          0|   N|                Y|\n",
            "| R7EJRSXIXMLIY|          5|            0|          0|   N|                Y|\n",
            "|R2EBGPZD0B3TSV|          5|            0|          0|   N|                N|\n",
            "|R229VSSFBNB90C|          5|            0|          0|   N|                Y|\n",
            "|R12YCDYTDBJH3X|          5|            0|          0|   N|                Y|\n",
            "|R3DEVUNGQ2Y98S|          5|            0|          0|   N|                Y|\n",
            "+--------------+-----------+-------------+-----------+----+-----------------+\n",
            "only showing top 20 rows\n",
            "\n"
          ]
        }
      ]
    },
    {
      "cell_type": "markdown",
      "metadata": {
        "id": "jITZhLkmY--J"
      },
      "source": [
        "### Connect to the AWS RDS instance and write each DataFrame to its table. "
      ]
    },
    {
      "cell_type": "code",
      "metadata": {
        "id": "7jiUvs1aY--L"
      },
      "source": [
        "# Configure settings for RDS\n",
        "mode = \"append\"\n",
        "jdbc_url=\"jdbc:postgresql://challenge16.cm3g8epz2elv.us-east-1.rds.amazonaws.com:5432/Challenge16\"\n",
        "config = {\"user\":\"postgres\",\n",
        "          \"password\": \"\",\n",
        "          \"driver\":\"org.postgresql.Driver\"}"
      ],
      "execution_count": null,
      "outputs": []
    },
    {
      "cell_type": "markdown",
      "source": [
        ""
      ],
      "metadata": {
        "id": "WrQ3O51jVDrI"
      }
    },
    {
      "cell_type": "code",
      "metadata": {
        "id": "T2zgZ-aKY--Q"
      },
      "source": [
        "# Write review_id_df to table in RDS\n",
        "review_id_df.write.jdbc(url=jdbc_url, table='review_id_table', mode=mode, properties=config)"
      ],
      "execution_count": null,
      "outputs": []
    },
    {
      "cell_type": "code",
      "metadata": {
        "id": "1m3yzn-LY--U"
      },
      "source": [
        "# Write products_df to table in RDS\n",
        "# about 3 min\n",
        "products_df.write.jdbc(url=jdbc_url, table='products_table', mode=mode, properties=config)"
      ],
      "execution_count": null,
      "outputs": []
    },
    {
      "cell_type": "code",
      "metadata": {
        "id": "KbXri15fY--Z"
      },
      "source": [
        "# Write customers_df to table in RDS\n",
        "# 5 min 14 s\n",
        "customers_df.write.jdbc(url=jdbc_url, table='customers_table', mode=mode, properties=config)"
      ],
      "execution_count": null,
      "outputs": []
    },
    {
      "cell_type": "code",
      "metadata": {
        "id": "XdQknSHLY--e"
      },
      "source": [
        "# Write vine_df to table in RDS\n",
        "# 11 minutes\n",
        "vine_df.write.jdbc(url=jdbc_url, table='vine_table', mode=mode, properties=config)"
      ],
      "execution_count": null,
      "outputs": []
    },
    {
      "cell_type": "markdown",
      "source": [
        "# Deliverable 2"
      ],
      "metadata": {
        "id": "iAWFqKvRkOS4"
      }
    },
    {
      "cell_type": "code",
      "metadata": {
        "id": "Exuo6ebUsCqW",
        "colab": {
          "base_uri": "https://localhost:8080/"
        },
        "outputId": "3298f600-a613-4cfd-bbd4-1c9760821670"
      },
      "source": [
        "# Filter data and create new DF where total_votes is equal or greater to 20\n",
        "total_votes_df = df.filter(df['total_votes'] >= 20)\n",
        "total_votes_df.show()"
      ],
      "execution_count": null,
      "outputs": [
        {
          "output_type": "stream",
          "name": "stdout",
          "text": [
            "+-----------+-----------+--------------+----------+--------------+--------------------+--------------------+-----------+-------------+-----------+----+-----------------+--------------------+--------------------+-----------+\n",
            "|marketplace|customer_id|     review_id|product_id|product_parent|       product_title|    product_category|star_rating|helpful_votes|total_votes|vine|verified_purchase|     review_headline|         review_body|review_date|\n",
            "+-----------+-----------+--------------+----------+--------------+--------------------+--------------------+-----------+-------------+-----------+----+-----------------+--------------------+--------------------+-----------+\n",
            "|         US|   21585599|R1S0N56H5B9SUX|B00ZQKVD4Q|     550273770|        Live in Cuba|Digital_Music_Pur...|          5|           30|         30|   N|                Y|Excellent Jazz album|Excellent album. ...| 2015-08-31|\n",
            "|         US|   16227164| RCDI7Z8VCZJI9|B00YHTO1HS|     771772746|Badlands (Deluxe)...|Digital_Music_Pur...|          4|           40|         43|   N|                N|This Is What Owni...|I first heard Hal...| 2015-08-28|\n",
            "|         US|   51840199|R3F4225VTUO2WE|B00YI4B79W|     772368695|             Meliora|Digital_Music_Pur...|          1|            8|         33|   N|                N|Sounds like a Gra...|It is now exactly...| 2015-08-28|\n",
            "|         US|    2343013|  R3ADPNURCCTK|B0108UOO7Q|     915620099|Immortalized [Exp...|Digital_Music_Pur...|          1|            1|         39|   N|                N|            One Star|I was the biggest...| 2015-08-27|\n",
            "|         US|   13189348|R2LWBYC8TEUVF2|B00ZF3SIDI|     565883355|Nathaniel Ratelif...|Digital_Music_Pur...|          5|           50|         53|   N|                Y|Amazing! I discov...|Amazing!<br /><br...| 2015-08-26|\n",
            "|         US|   42571467|R23E4EIJXID5IC|B00PJUM34M|     736481072|   We Shall Overcome|Digital_Music_Pur...|          5|           43|         43|   N|                N|It's no \"Dark Sid...|If you put the al...| 2015-08-26|\n",
            "|         US|   13113713|R1WFSWDT8L5RSJ|B012JM8L6G|     881736409|     Burning Bridges|Digital_Music_Pur...|          4|           23|         26|   N|                N|Better than I exp...|Bon Jovi had a ro...| 2015-08-25|\n",
            "|         US|   43249739|R37LMHN02KOER1|B013L23ADM|     564719434|Just One Look: Cl...|Digital_Music_Pur...|          5|           50|         50|   N|                N|      Linda Times 30|Her millions of f...| 2015-08-25|\n",
            "|         US|   49116462|R297QI4VU3LMY6|B00YI4B79W|     772368695|             Meliora|Digital_Music_Pur...|          4|           41|         50|   N|                N|Not A Review For ...|So here's the thi...| 2015-08-24|\n",
            "|         US|   46942146| RGNU1L1XFX33B|B012JM8L6G|     881736409|     Burning Bridges|Digital_Music_Pur...|          3|           34|         35|   N|                N|and weren't good ...|If you look at an...| 2015-08-24|\n",
            "|         US|   14708731|R2NPE00F48X0ET|B00YI4B79W|     772368695|             Meliora|Digital_Music_Pur...|          5|           22|         27|   N|                N|From the Pinnacle...|Bands that wholly...| 2015-08-24|\n",
            "|         US|   13189971| RSPQFPJ4ISKS3|B00YI4B79W|     772368695|             Meliora|Digital_Music_Pur...|          5|           32|         35|   N|                Y|   I Love This Album|It's hard to know...| 2015-08-24|\n",
            "|         US|   49608184|R3U75LKYXVWRG8|B010XN0IQO|     818607997|As Family We Go (...|Digital_Music_Pur...|          3|           18|         23|   N|                Y|There must be a r...|Why does almost a...| 2015-08-23|\n",
            "|         US|   49907247|R2Z6WUTQEXJWCR|B0108UOO7Q|     915620099|Immortalized [Exp...|Digital_Music_Pur...|          5|           18|         20|   N|                Y|And the Heavy Met...|Immortalized is t...| 2015-08-23|\n",
            "|         US|    7487669|R140Z5HP12GL1E|B010S37LDM|     655317938|        High Country|Digital_Music_Pur...|          5|           47|         56|   N|                Y|A much better exp...|'High Country' is...| 2015-08-22|\n",
            "|         US|   49807829|R2WSVH9IPUO014|B013XBYSE6|     379064655|    All of the Stars|Digital_Music_Pur...|          1|            2|         37|   N|                N|          Sickening.|This is the worst...| 2015-08-22|\n",
            "|         US|   17026247|R25Q6S82PO8PHG|B0125KDCES|     826839790|The Oblivion Part...|Digital_Music_Pur...|          5|           23|         28|   N|                Y|If you liked the ...|SPOCK'S BEARD RET...| 2015-08-21|\n",
            "|         US|   17766147|R3HDJJN7YXFSYX|B0108UP3A8|     915620099|Immortalized (Del...|Digital_Music_Pur...|          1|            4|         58|   N|                N|SAME ALL BORING S...|DOWN TO THE BONE!...| 2015-08-21|\n",
            "|         US|   14929324|R18VNEEQLPQPPO|B00ZF3SIDI|     565883355|Nathaniel Ratelif...|Digital_Music_Pur...|          5|          146|        153|   N|                Y|Fun!  A must purc...|So there I am doz...| 2015-08-21|\n",
            "|         US|   14504100|R2KTDZKWNKNXPE|B013XBYSE6|     379064655|    All of the Stars|Digital_Music_Pur...|          5|           20|         22|   N|                Y|A meaningful song...|On this cover of ...| 2015-08-21|\n",
            "+-----------+-----------+--------------+----------+--------------+--------------------+--------------------+-----------+-------------+-----------+----+-----------------+--------------------+--------------------+-----------+\n",
            "only showing top 20 rows\n",
            "\n"
          ]
        }
      ]
    },
    {
      "cell_type": "code",
      "source": [
        "helpful_votes_df = total_votes_df.filter(total_votes_df['helpful_votes']/total_votes_df['total_votes'] >= .5)\n",
        "helpful_votes_df.show()"
      ],
      "metadata": {
        "colab": {
          "base_uri": "https://localhost:8080/"
        },
        "id": "uKcSSY97lynD",
        "outputId": "8f23fcdf-4d57-4e12-f9be-1da26822587e"
      },
      "execution_count": null,
      "outputs": [
        {
          "output_type": "stream",
          "name": "stdout",
          "text": [
            "+-----------+-----------+--------------+----------+--------------+--------------------+--------------------+-----------+-------------+-----------+----+-----------------+--------------------+--------------------+-----------+\n",
            "|marketplace|customer_id|     review_id|product_id|product_parent|       product_title|    product_category|star_rating|helpful_votes|total_votes|vine|verified_purchase|     review_headline|         review_body|review_date|\n",
            "+-----------+-----------+--------------+----------+--------------+--------------------+--------------------+-----------+-------------+-----------+----+-----------------+--------------------+--------------------+-----------+\n",
            "|         US|   21585599|R1S0N56H5B9SUX|B00ZQKVD4Q|     550273770|        Live in Cuba|Digital_Music_Pur...|          5|           30|         30|   N|                Y|Excellent Jazz album|Excellent album. ...| 2015-08-31|\n",
            "|         US|   16227164| RCDI7Z8VCZJI9|B00YHTO1HS|     771772746|Badlands (Deluxe)...|Digital_Music_Pur...|          4|           40|         43|   N|                N|This Is What Owni...|I first heard Hal...| 2015-08-28|\n",
            "|         US|   13189348|R2LWBYC8TEUVF2|B00ZF3SIDI|     565883355|Nathaniel Ratelif...|Digital_Music_Pur...|          5|           50|         53|   N|                Y|Amazing! I discov...|Amazing!<br /><br...| 2015-08-26|\n",
            "|         US|   42571467|R23E4EIJXID5IC|B00PJUM34M|     736481072|   We Shall Overcome|Digital_Music_Pur...|          5|           43|         43|   N|                N|It's no \"Dark Sid...|If you put the al...| 2015-08-26|\n",
            "|         US|   13113713|R1WFSWDT8L5RSJ|B012JM8L6G|     881736409|     Burning Bridges|Digital_Music_Pur...|          4|           23|         26|   N|                N|Better than I exp...|Bon Jovi had a ro...| 2015-08-25|\n",
            "|         US|   43249739|R37LMHN02KOER1|B013L23ADM|     564719434|Just One Look: Cl...|Digital_Music_Pur...|          5|           50|         50|   N|                N|      Linda Times 30|Her millions of f...| 2015-08-25|\n",
            "|         US|   49116462|R297QI4VU3LMY6|B00YI4B79W|     772368695|             Meliora|Digital_Music_Pur...|          4|           41|         50|   N|                N|Not A Review For ...|So here's the thi...| 2015-08-24|\n",
            "|         US|   46942146| RGNU1L1XFX33B|B012JM8L6G|     881736409|     Burning Bridges|Digital_Music_Pur...|          3|           34|         35|   N|                N|and weren't good ...|If you look at an...| 2015-08-24|\n",
            "|         US|   14708731|R2NPE00F48X0ET|B00YI4B79W|     772368695|             Meliora|Digital_Music_Pur...|          5|           22|         27|   N|                N|From the Pinnacle...|Bands that wholly...| 2015-08-24|\n",
            "|         US|   13189971| RSPQFPJ4ISKS3|B00YI4B79W|     772368695|             Meliora|Digital_Music_Pur...|          5|           32|         35|   N|                Y|   I Love This Album|It's hard to know...| 2015-08-24|\n",
            "|         US|   49608184|R3U75LKYXVWRG8|B010XN0IQO|     818607997|As Family We Go (...|Digital_Music_Pur...|          3|           18|         23|   N|                Y|There must be a r...|Why does almost a...| 2015-08-23|\n",
            "|         US|   49907247|R2Z6WUTQEXJWCR|B0108UOO7Q|     915620099|Immortalized [Exp...|Digital_Music_Pur...|          5|           18|         20|   N|                Y|And the Heavy Met...|Immortalized is t...| 2015-08-23|\n",
            "|         US|    7487669|R140Z5HP12GL1E|B010S37LDM|     655317938|        High Country|Digital_Music_Pur...|          5|           47|         56|   N|                Y|A much better exp...|'High Country' is...| 2015-08-22|\n",
            "|         US|   17026247|R25Q6S82PO8PHG|B0125KDCES|     826839790|The Oblivion Part...|Digital_Music_Pur...|          5|           23|         28|   N|                Y|If you liked the ...|SPOCK'S BEARD RET...| 2015-08-21|\n",
            "|         US|   14929324|R18VNEEQLPQPPO|B00ZF3SIDI|     565883355|Nathaniel Ratelif...|Digital_Music_Pur...|          5|          146|        153|   N|                Y|Fun!  A must purc...|So there I am doz...| 2015-08-21|\n",
            "|         US|   14504100|R2KTDZKWNKNXPE|B013XBYSE6|     379064655|    All of the Stars|Digital_Music_Pur...|          5|           20|         22|   N|                Y|A meaningful song...|On this cover of ...| 2015-08-21|\n",
            "|         US|   44131062|R1T2DZ27VMFSDV|B013XBYSE6|     379064655|    All of the Stars|Digital_Music_Pur...|          5|           18|         21|   N|                N|Jackie does it ag...|This song is a mu...| 2015-08-21|\n",
            "|         US|   17493933|R1L9S1598FPFFG|B0108UP3A8|     915620099|Immortalized (Del...|Digital_Music_Pur...|          5|           28|         33|   N|                Y|Fantastic Return ...|A fantastic retur...| 2015-08-21|\n",
            "|         US|   21644414|R1C9BQD9AA2C76|B0108UP3A8|     915620099|Immortalized (Del...|Digital_Music_Pur...|          5|           50|         53|   N|                Y|Killer Comeback f...|Excellent come ba...| 2015-08-21|\n",
            "|         US|   52912029| RXNMSLZ3KAT95|B00PJUM34M|     736481072|   We Shall Overcome|Digital_Music_Pur...|          5|           24|         25|   N|                Y|This is THE messa...|We have here an e...| 2015-08-21|\n",
            "+-----------+-----------+--------------+----------+--------------+--------------------+--------------------+-----------+-------------+-----------+----+-----------------+--------------------+--------------------+-----------+\n",
            "only showing top 20 rows\n",
            "\n"
          ]
        }
      ]
    },
    {
      "cell_type": "code",
      "source": [
        "# Paid\n",
        "review_df = helpful_votes_df.filter(helpful_votes_df['vine'] == 'Y')\n",
        "review_df.show()"
      ],
      "metadata": {
        "colab": {
          "base_uri": "https://localhost:8080/"
        },
        "id": "5hwJLmsRn869",
        "outputId": "4b465f71-3573-4a23-91d2-0aa3ba42660f"
      },
      "execution_count": null,
      "outputs": [
        {
          "output_type": "stream",
          "name": "stdout",
          "text": [
            "+-----------+-----------+---------+----------+--------------+-------------+----------------+-----------+-------------+-----------+----+-----------------+---------------+-----------+-----------+\n",
            "|marketplace|customer_id|review_id|product_id|product_parent|product_title|product_category|star_rating|helpful_votes|total_votes|vine|verified_purchase|review_headline|review_body|review_date|\n",
            "+-----------+-----------+---------+----------+--------------+-------------+----------------+-----------+-------------+-----------+----+-----------------+---------------+-----------+-----------+\n",
            "+-----------+-----------+---------+----------+--------------+-------------+----------------+-----------+-------------+-----------+----+-----------------+---------------+-----------+-----------+\n",
            "\n"
          ]
        }
      ]
    },
    {
      "cell_type": "code",
      "source": [
        "# Unpaid\n",
        "no_review_df = helpful_votes_df.filter(helpful_votes_df['vine'] == 'N')\n",
        "no_review_df.show()"
      ],
      "metadata": {
        "colab": {
          "base_uri": "https://localhost:8080/"
        },
        "id": "AAT1VsNooUMD",
        "outputId": "68ac8380-b6db-4e54-e8f4-43a3e72caabd"
      },
      "execution_count": null,
      "outputs": [
        {
          "output_type": "stream",
          "name": "stdout",
          "text": [
            "+-----------+-----------+--------------+----------+--------------+--------------------+--------------------+-----------+-------------+-----------+----+-----------------+--------------------+--------------------+-----------+\n",
            "|marketplace|customer_id|     review_id|product_id|product_parent|       product_title|    product_category|star_rating|helpful_votes|total_votes|vine|verified_purchase|     review_headline|         review_body|review_date|\n",
            "+-----------+-----------+--------------+----------+--------------+--------------------+--------------------+-----------+-------------+-----------+----+-----------------+--------------------+--------------------+-----------+\n",
            "|         US|   21585599|R1S0N56H5B9SUX|B00ZQKVD4Q|     550273770|        Live in Cuba|Digital_Music_Pur...|          5|           30|         30|   N|                Y|Excellent Jazz album|Excellent album. ...| 2015-08-31|\n",
            "|         US|   16227164| RCDI7Z8VCZJI9|B00YHTO1HS|     771772746|Badlands (Deluxe)...|Digital_Music_Pur...|          4|           40|         43|   N|                N|This Is What Owni...|I first heard Hal...| 2015-08-28|\n",
            "|         US|   13189348|R2LWBYC8TEUVF2|B00ZF3SIDI|     565883355|Nathaniel Ratelif...|Digital_Music_Pur...|          5|           50|         53|   N|                Y|Amazing! I discov...|Amazing!<br /><br...| 2015-08-26|\n",
            "|         US|   42571467|R23E4EIJXID5IC|B00PJUM34M|     736481072|   We Shall Overcome|Digital_Music_Pur...|          5|           43|         43|   N|                N|It's no \"Dark Sid...|If you put the al...| 2015-08-26|\n",
            "|         US|   13113713|R1WFSWDT8L5RSJ|B012JM8L6G|     881736409|     Burning Bridges|Digital_Music_Pur...|          4|           23|         26|   N|                N|Better than I exp...|Bon Jovi had a ro...| 2015-08-25|\n",
            "|         US|   43249739|R37LMHN02KOER1|B013L23ADM|     564719434|Just One Look: Cl...|Digital_Music_Pur...|          5|           50|         50|   N|                N|      Linda Times 30|Her millions of f...| 2015-08-25|\n",
            "|         US|   49116462|R297QI4VU3LMY6|B00YI4B79W|     772368695|             Meliora|Digital_Music_Pur...|          4|           41|         50|   N|                N|Not A Review For ...|So here's the thi...| 2015-08-24|\n",
            "|         US|   46942146| RGNU1L1XFX33B|B012JM8L6G|     881736409|     Burning Bridges|Digital_Music_Pur...|          3|           34|         35|   N|                N|and weren't good ...|If you look at an...| 2015-08-24|\n",
            "|         US|   14708731|R2NPE00F48X0ET|B00YI4B79W|     772368695|             Meliora|Digital_Music_Pur...|          5|           22|         27|   N|                N|From the Pinnacle...|Bands that wholly...| 2015-08-24|\n",
            "|         US|   13189971| RSPQFPJ4ISKS3|B00YI4B79W|     772368695|             Meliora|Digital_Music_Pur...|          5|           32|         35|   N|                Y|   I Love This Album|It's hard to know...| 2015-08-24|\n",
            "|         US|   49608184|R3U75LKYXVWRG8|B010XN0IQO|     818607997|As Family We Go (...|Digital_Music_Pur...|          3|           18|         23|   N|                Y|There must be a r...|Why does almost a...| 2015-08-23|\n",
            "|         US|   49907247|R2Z6WUTQEXJWCR|B0108UOO7Q|     915620099|Immortalized [Exp...|Digital_Music_Pur...|          5|           18|         20|   N|                Y|And the Heavy Met...|Immortalized is t...| 2015-08-23|\n",
            "|         US|    7487669|R140Z5HP12GL1E|B010S37LDM|     655317938|        High Country|Digital_Music_Pur...|          5|           47|         56|   N|                Y|A much better exp...|'High Country' is...| 2015-08-22|\n",
            "|         US|   17026247|R25Q6S82PO8PHG|B0125KDCES|     826839790|The Oblivion Part...|Digital_Music_Pur...|          5|           23|         28|   N|                Y|If you liked the ...|SPOCK'S BEARD RET...| 2015-08-21|\n",
            "|         US|   14929324|R18VNEEQLPQPPO|B00ZF3SIDI|     565883355|Nathaniel Ratelif...|Digital_Music_Pur...|          5|          146|        153|   N|                Y|Fun!  A must purc...|So there I am doz...| 2015-08-21|\n",
            "|         US|   14504100|R2KTDZKWNKNXPE|B013XBYSE6|     379064655|    All of the Stars|Digital_Music_Pur...|          5|           20|         22|   N|                Y|A meaningful song...|On this cover of ...| 2015-08-21|\n",
            "|         US|   44131062|R1T2DZ27VMFSDV|B013XBYSE6|     379064655|    All of the Stars|Digital_Music_Pur...|          5|           18|         21|   N|                N|Jackie does it ag...|This song is a mu...| 2015-08-21|\n",
            "|         US|   17493933|R1L9S1598FPFFG|B0108UP3A8|     915620099|Immortalized (Del...|Digital_Music_Pur...|          5|           28|         33|   N|                Y|Fantastic Return ...|A fantastic retur...| 2015-08-21|\n",
            "|         US|   21644414|R1C9BQD9AA2C76|B0108UP3A8|     915620099|Immortalized (Del...|Digital_Music_Pur...|          5|           50|         53|   N|                Y|Killer Comeback f...|Excellent come ba...| 2015-08-21|\n",
            "|         US|   52912029| RXNMSLZ3KAT95|B00PJUM34M|     736481072|   We Shall Overcome|Digital_Music_Pur...|          5|           24|         25|   N|                Y|This is THE messa...|We have here an e...| 2015-08-21|\n",
            "+-----------+-----------+--------------+----------+--------------+--------------------+--------------------+-----------+-------------+-----------+----+-----------------+--------------------+--------------------+-----------+\n",
            "only showing top 20 rows\n",
            "\n"
          ]
        }
      ]
    },
    {
      "cell_type": "code",
      "source": [
        "# Determine the total number of reviews, the number of 5-star reviews, and the percentage of 5-star reviews for the two types of review (paid vs unpaid).\n",
        "# Number of Paid Reviews\n",
        "review_df.count()\n"
      ],
      "metadata": {
        "colab": {
          "base_uri": "https://localhost:8080/"
        },
        "id": "-D001o-6paX8",
        "outputId": "3d0af92d-63f5-4fd4-a2f6-e2a40050c9e3"
      },
      "execution_count": null,
      "outputs": [
        {
          "output_type": "execute_result",
          "data": {
            "text/plain": [
              "0"
            ]
          },
          "metadata": {},
          "execution_count": 115
        }
      ]
    },
    {
      "cell_type": "code",
      "source": [
        "# Number of 5-star Paid reviews\n",
        "review_df.filter(review_df['star_rating'] == 5).count()"
      ],
      "metadata": {
        "colab": {
          "base_uri": "https://localhost:8080/"
        },
        "id": "fWt1TXaOrC_K",
        "outputId": "2d743c82-b1e2-4155-dc48-25b8db65de60"
      },
      "execution_count": null,
      "outputs": [
        {
          "output_type": "execute_result",
          "data": {
            "text/plain": [
              "0"
            ]
          },
          "metadata": {},
          "execution_count": 122
        }
      ]
    },
    {
      "cell_type": "code",
      "source": [
        "# % of 5-star Paid reviews\n",
        "review_df['star_rating']==5 / review_df.count()\n"
      ],
      "metadata": {
        "colab": {
          "base_uri": "https://localhost:8080/",
          "height": 184
        },
        "id": "gBtZI768rI6c",
        "outputId": "7a668df4-0028-45fa-e1fc-3826b3974c36"
      },
      "execution_count": null,
      "outputs": [
        {
          "output_type": "error",
          "ename": "ZeroDivisionError",
          "evalue": "ignored",
          "traceback": [
            "\u001b[0;31m---------------------------------------------------------------------------\u001b[0m",
            "\u001b[0;31mZeroDivisionError\u001b[0m                         Traceback (most recent call last)",
            "\u001b[0;32m<ipython-input-121-4e1ee0a5e057>\u001b[0m in \u001b[0;36m<module>\u001b[0;34m()\u001b[0m\n\u001b[1;32m      1\u001b[0m \u001b[0;31m# % of 5-star Paid reviews\u001b[0m\u001b[0;34m\u001b[0m\u001b[0;34m\u001b[0m\u001b[0;34m\u001b[0m\u001b[0m\n\u001b[0;32m----> 2\u001b[0;31m \u001b[0mreview_df\u001b[0m\u001b[0;34m[\u001b[0m\u001b[0;34m'star_rating'\u001b[0m\u001b[0;34m]\u001b[0m\u001b[0;34m==\u001b[0m\u001b[0;36m5\u001b[0m \u001b[0;34m/\u001b[0m \u001b[0mreview_df\u001b[0m\u001b[0;34m.\u001b[0m\u001b[0mcount\u001b[0m\u001b[0;34m(\u001b[0m\u001b[0;34m)\u001b[0m\u001b[0;34m\u001b[0m\u001b[0;34m\u001b[0m\u001b[0m\n\u001b[0m",
            "\u001b[0;31mZeroDivisionError\u001b[0m: division by zero"
          ]
        }
      ]
    },
    {
      "cell_type": "code",
      "source": [
        "# Number of Unpaid Reviews\n",
        "no_review_df.count()"
      ],
      "metadata": {
        "colab": {
          "base_uri": "https://localhost:8080/"
        },
        "id": "r6Rk8aCdrw-G",
        "outputId": "07c99f67-cb30-47da-9ea0-69fb9ebf1938"
      },
      "execution_count": null,
      "outputs": [
        {
          "output_type": "execute_result",
          "data": {
            "text/plain": [
              "4532"
            ]
          },
          "metadata": {},
          "execution_count": 117
        }
      ]
    },
    {
      "cell_type": "code",
      "source": [
        "# Number of Unpaid 5-star Reviews\n",
        "no_review_df.filter(no_review_df['star_rating'] == 5).count()"
      ],
      "metadata": {
        "colab": {
          "base_uri": "https://localhost:8080/"
        },
        "id": "gGMPrtQkszS8",
        "outputId": "1e3e8c0f-0b45-4b27-b69e-0e91b10fae25"
      },
      "execution_count": null,
      "outputs": [
        {
          "output_type": "execute_result",
          "data": {
            "text/plain": [
              "2507"
            ]
          },
          "metadata": {},
          "execution_count": 123
        }
      ]
    },
    {
      "cell_type": "code",
      "source": [
        "# % of 5-star Unpaid Reviews\n",
        "no_review_df.filter(no_review_df['star_rating'] == 5).count() / no_review_df.count()"
      ],
      "metadata": {
        "colab": {
          "base_uri": "https://localhost:8080/"
        },
        "id": "3SRqq9Has8me",
        "outputId": "b455c943-bd1d-4e8a-d6ee-0e6eabada04f"
      },
      "execution_count": null,
      "outputs": [
        {
          "output_type": "execute_result",
          "data": {
            "text/plain": [
              "0.5531774051191527"
            ]
          },
          "metadata": {},
          "execution_count": 125
        }
      ]
    }
  ]
}
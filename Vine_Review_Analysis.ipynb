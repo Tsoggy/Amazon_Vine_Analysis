{
  "nbformat": 4,
  "nbformat_minor": 0,
  "metadata": {
    "colab": {
      "name": "Vine_Review_Analysis.ipynb",
      "provenance": [],
      "collapsed_sections": [],
      "authorship_tag": "ABX9TyOnVF9dOur10trwsCuyLSBl",
      "include_colab_link": true
    },
    "kernelspec": {
      "name": "python3",
      "display_name": "Python 3"
    },
    "language_info": {
      "name": "python"
    }
  },
  "cells": [
    {
      "cell_type": "markdown",
      "metadata": {
        "id": "view-in-github",
        "colab_type": "text"
      },
      "source": [
        "<a href=\"https://colab.research.google.com/github/Tsoggy/Amazon_Vine_Analysis/blob/main/Vine_Review_Analysis.ipynb\" target=\"_parent\"><img src=\"https://colab.research.google.com/assets/colab-badge.svg\" alt=\"Open In Colab\"/></a>"
      ]
    },
    {
      "cell_type": "code",
      "execution_count": 1,
      "metadata": {
        "colab": {
          "base_uri": "https://localhost:8080/"
        },
        "id": "5Qsus9Dwtx9q",
        "outputId": "243328fe-7ac5-41d2-d631-716d15540d35"
      },
      "outputs": [
        {
          "output_type": "stream",
          "name": "stdout",
          "text": [
            "\r0% [Working]\r            \rGet:1 http://security.ubuntu.com/ubuntu bionic-security InRelease [88.7 kB]\n",
            "\r0% [Connecting to archive.ubuntu.com] [1 InRelease 14.2 kB/88.7 kB 16%] [Connec\r0% [Connecting to archive.ubuntu.com (91.189.88.152)] [Waiting for headers] [Wa\r                                                                               \rGet:2 https://cloud.r-project.org/bin/linux/ubuntu bionic-cran40/ InRelease [3,626 B]\n",
            "\r                                                                               \rIgn:3 https://developer.download.nvidia.com/compute/cuda/repos/ubuntu1804/x86_64  InRelease\n",
            "Get:4 http://ppa.launchpad.net/c2d4u.team/c2d4u4.0+/ubuntu bionic InRelease [15.9 kB]\n",
            "Ign:5 https://developer.download.nvidia.com/compute/machine-learning/repos/ubuntu1804/x86_64  InRelease\n",
            "Get:6 https://developer.download.nvidia.com/compute/cuda/repos/ubuntu1804/x86_64  Release [696 B]\n",
            "Hit:7 https://developer.download.nvidia.com/compute/machine-learning/repos/ubuntu1804/x86_64  Release\n",
            "Get:8 https://developer.download.nvidia.com/compute/cuda/repos/ubuntu1804/x86_64  Release.gpg [836 B]\n",
            "Hit:9 http://archive.ubuntu.com/ubuntu bionic InRelease\n",
            "Get:10 http://archive.ubuntu.com/ubuntu bionic-updates InRelease [88.7 kB]\n",
            "Hit:11 http://ppa.launchpad.net/cran/libgit2/ubuntu bionic InRelease\n",
            "Get:12 http://ppa.launchpad.net/deadsnakes/ppa/ubuntu bionic InRelease [15.9 kB]\n",
            "Get:13 http://archive.ubuntu.com/ubuntu bionic-backports InRelease [74.6 kB]\n",
            "Get:14 http://security.ubuntu.com/ubuntu bionic-security/multiverse amd64 Packages [21.1 kB]\n",
            "Get:15 http://ppa.launchpad.net/graphics-drivers/ppa/ubuntu bionic InRelease [21.3 kB]\n",
            "Get:16 http://security.ubuntu.com/ubuntu bionic-security/universe amd64 Packages [1,468 kB]\n",
            "Get:17 http://security.ubuntu.com/ubuntu bionic-security/main amd64 Packages [2,564 kB]\n",
            "Get:18 http://security.ubuntu.com/ubuntu bionic-security/restricted amd64 Packages [783 kB]\n",
            "Get:20 http://ppa.launchpad.net/c2d4u.team/c2d4u4.0+/ubuntu bionic/main Sources [1,824 kB]\n",
            "Get:21 https://developer.download.nvidia.com/compute/cuda/repos/ubuntu1804/x86_64  Packages [917 kB]\n",
            "Get:22 http://ppa.launchpad.net/c2d4u.team/c2d4u4.0+/ubuntu bionic/main amd64 Packages [935 kB]\n",
            "Get:23 http://archive.ubuntu.com/ubuntu bionic-updates/universe amd64 Packages [2,247 kB]\n",
            "Get:24 http://ppa.launchpad.net/deadsnakes/ppa/ubuntu bionic/main amd64 Packages [45.3 kB]\n",
            "Get:25 http://archive.ubuntu.com/ubuntu bionic-updates/main amd64 Packages [3,004 kB]\n",
            "Get:26 http://archive.ubuntu.com/ubuntu bionic-updates/restricted amd64 Packages [816 kB]\n",
            "Get:27 http://archive.ubuntu.com/ubuntu bionic-updates/multiverse amd64 Packages [29.0 kB]\n",
            "Get:28 http://ppa.launchpad.net/graphics-drivers/ppa/ubuntu bionic/main amd64 Packages [42.8 kB]\n",
            "Fetched 15.0 MB in 7s (2,139 kB/s)\n",
            "Reading package lists... Done\n"
          ]
        }
      ],
      "source": [
        "import os\n",
        "# Find the latest version of spark 3.0 from http://www.apache.org/dist/spark/ and enter as the spark version\n",
        "# For example:\n",
        "# spark_version = 'spark-3.0.3'\n",
        "spark_version = 'spark-3.2.1'\n",
        "os.environ['SPARK_VERSION']=spark_version\n",
        "\n",
        "# Install Spark and Java\n",
        "!apt-get update\n",
        "!apt-get install openjdk-11-jdk-headless -qq > /dev/null\n",
        "!wget -q http://www.apache.org/dist/spark/$SPARK_VERSION/$SPARK_VERSION-bin-hadoop2.7.tgz\n",
        "!tar xf $SPARK_VERSION-bin-hadoop2.7.tgz\n",
        "!pip install -q findspark\n",
        "\n",
        "# Set Environment Variables\n",
        "import os\n",
        "os.environ[\"JAVA_HOME\"] = \"/usr/lib/jvm/java-11-openjdk-amd64\"\n",
        "os.environ[\"SPARK_HOME\"] = f\"/content/{spark_version}-bin-hadoop2.7\"\n",
        "\n",
        "# Start a SparkSession\n",
        "import findspark\n",
        "findspark.init()"
      ]
    },
    {
      "cell_type": "code",
      "source": [
        "from pyspark.sql import SparkSession\n",
        "spark = SparkSession.builder.appName(\"M16-Amazon-Challenge\").config(\"spark.driver.extraClassPath\",\"/content/postgresql-42.2.16.jar\").getOrCreate()"
      ],
      "metadata": {
        "id": "22o4qGaluZvl"
      },
      "execution_count": 2,
      "outputs": []
    },
    {
      "cell_type": "code",
      "source": [
        "from pyspark import SparkFiles\n",
        "url = \"https://s3.amazonaws.com/amazon-reviews-pds/tsv/amazon_reviews_us_Digital_Music_Purchase_v1_00.tsv.gz\"\n",
        "spark.sparkContext.addFile(url)\n",
        "df = spark.read.option(\"encoding\", \"UTF-8\").csv(SparkFiles.get(\"\"), sep=\"\\t\", header=True, inferSchema=True)\n",
        "df.show()"
      ],
      "metadata": {
        "colab": {
          "base_uri": "https://localhost:8080/"
        },
        "id": "RJrrg2i3uVoN",
        "outputId": "87b1b187-201b-4145-9ce5-6884e7599b8e"
      },
      "execution_count": 3,
      "outputs": [
        {
          "output_type": "stream",
          "name": "stdout",
          "text": [
            "+-----------+-----------+--------------+----------+--------------+--------------------+--------------------+-----------+-------------+-----------+----+-----------------+--------------------+--------------------+-----------+\n",
            "|marketplace|customer_id|     review_id|product_id|product_parent|       product_title|    product_category|star_rating|helpful_votes|total_votes|vine|verified_purchase|     review_headline|         review_body|review_date|\n",
            "+-----------+-----------+--------------+----------+--------------+--------------------+--------------------+-----------+-------------+-----------+----+-----------------+--------------------+--------------------+-----------+\n",
            "|         US|   10293599|R14LVB34Z2Z53I|B000YMOQZY|     262935067|Knockin' On Heave...|Digital_Music_Pur...|          5|            0|          0|   N|                Y|           favorites|Great  rendition....| 2015-08-31|\n",
            "|         US|    6087195|R2M0R9CWPC82LT|B00ISAEC80|     452318038|            Flawless|Digital_Music_Pur...|          5|            0|          0|   N|                Y|          Five Stars|A good music to l...| 2015-08-31|\n",
            "|         US|   33717063| RQNQI2R3BM52A|B00VBB6AVU|     675969129|    Scandal of Grace|Digital_Music_Pur...|          4|            0|          0|   N|                Y|                Good|Not as good as th...| 2015-08-31|\n",
            "|         US|   14948020| RTUIX1135HUAB|B008A5POJO|     282925893|  I Surrender (Live)|Digital_Music_Pur...|          5|            0|          0|   N|                Y|Wonderful lyrics!...|Time to worship a...| 2015-08-31|\n",
            "|         US|   21694522| RE3QSAT8TL010|B014CW2RN4|     109077793|We Are Young (Jer...|Digital_Music_Pur...|          4|            0|          0|   N|                Y|Hot remix but too...|So this should be...| 2015-08-31|\n",
            "|         US|   14948020|R14TN65IY0NUOD|B00DRA3EOY|     959245080|        Lord, I Live|Digital_Music_Pur...|          5|            0|          0|   N|                Y|          Five Stars|Clint Brown is an...| 2015-08-31|\n",
            "|         US|   20031966|R3LIF8MCNH1ODF|B009G3U0PW|     762436916|  I'll Never Be Free|Digital_Music_Pur...|          5|            0|          0|   N|                Y|\"I'll never be fr...|LaVerne Butler is...| 2015-08-31|\n",
            "|         US|   12223745|R33X0DGA4PPQ3L|B013XBYQOS|     137980344|    All of the Stars|Digital_Music_Pur...|          5|            3|          3|   N|                N| long awaited treat!|For some reason I...| 2015-08-31|\n",
            "|         US|   30231876|R2DJJP7DQRT1ZW|B003L5H25W|     165995375|Exile On Main Str...|Digital_Music_Pur...|          5|            0|          1|   N|                Y|          Five Stars|The Stones at the...| 2015-08-31|\n",
            "|         US|   51714365|R2A8XDXW5XOT4H|B00136NVH4|     227508666|     Bat Out Of Hell|Digital_Music_Pur...|          5|            0|          0|   N|                Y|    Transcends Time.|    Simply the best.| 2015-08-31|\n",
            "|         US|   37216001|R3MJK3L7ER61TT|B0030AKPQ6|     164096943|Stronger Than Her...|Digital_Music_Pur...|          5|            0|          0|   N|                N|I Love The Flirta...|A very early hit ...| 2015-08-31|\n",
            "|         US|   49207156|R38Z7XMCVDR0R5|B014EQE0V0|     714368268|You Hold It All (...|Digital_Music_Pur...|          5|            1|          1|   N|                Y|          Five Stars|Inspired by this ...| 2015-08-31|\n",
            "|         US|    2472364|R3FFESBQXPR7S6|B00USW4ZVU|      50310906|   Pressure - Single|Digital_Music_Pur...|          4|            0|          0|   N|                Y|Talented new gosp...|Great new artist....| 2015-08-31|\n",
            "|         US|   22612468|R3QO6Z942CKH34|B00ZZDJAX0|     162295903|What Are The Chan...|Digital_Music_Pur...|          5|            1|          1|   N|                Y|        Awesome song|Great song off th...| 2015-08-31|\n",
            "|         US|    2254795|R297119MDWMG9P|B014DIWONU|      44838453|Beauty Behind The...|Digital_Music_Pur...|          5|            0|          0|   N|                Y|I love every song...|The weeknd is a m...| 2015-08-31|\n",
            "|         US|   12408664| R7EJRSXIXMLIY|B005DPTQNE|     454271984|It's The Huck-A-B...|Digital_Music_Pur...|          5|            0|          0|   N|                Y|          Five Stars|       Sounds great!| 2015-08-31|\n",
            "|         US|   36236254|R2EBGPZD0B3TSV|B004LI9ATO|     519024911|  Two Purple Shadows|Digital_Music_Pur...|          5|            0|          0|   N|                N|An oldie,,, but i...|An oldie , , , bu...| 2015-08-31|\n",
            "|         US|   10456004|R229VSSFBNB90C|B00984QCM4|     647155979|         Consolation|Digital_Music_Pur...|          5|            0|          0|   N|                Y|          Five Stars|               great| 2015-08-31|\n",
            "|         US|   16822806|R12YCDYTDBJH3X|B00ZKCAK4O|     346522639|One Man Army [Exp...|Digital_Music_Pur...|          5|            0|          0|   N|                Y|One Man Army! Dow...|Real Sh*t Right H...| 2015-08-31|\n",
            "|         US|   30704319|R3DEVUNGQ2Y98S|B014GWCW8K|     260814213|Without You (feat...|Digital_Music_Pur...|          5|            0|          0|   N|                Y|          Five Stars|      Press Forward!| 2015-08-31|\n",
            "+-----------+-----------+--------------+----------+--------------+--------------------+--------------------+-----------+-------------+-----------+----+-----------------+--------------------+--------------------+-----------+\n",
            "only showing top 20 rows\n",
            "\n"
          ]
        }
      ]
    },
    {
      "cell_type": "code",
      "source": [
        "# Create the vine_table. DataFrame\n",
        "vine_df = df.select([\"review_id\", \"star_rating\", \"helpful_votes\", \"total_votes\", \"vine\", \"verified_purchase\"])\n",
        "vine_df.show()"
      ],
      "metadata": {
        "colab": {
          "base_uri": "https://localhost:8080/"
        },
        "id": "lgsgIKd3ubrP",
        "outputId": "8b680c96-bc99-4ca8-ebdd-b84da231feb8"
      },
      "execution_count": 4,
      "outputs": [
        {
          "output_type": "stream",
          "name": "stdout",
          "text": [
            "+--------------+-----------+-------------+-----------+----+-----------------+\n",
            "|     review_id|star_rating|helpful_votes|total_votes|vine|verified_purchase|\n",
            "+--------------+-----------+-------------+-----------+----+-----------------+\n",
            "|R14LVB34Z2Z53I|          5|            0|          0|   N|                Y|\n",
            "|R2M0R9CWPC82LT|          5|            0|          0|   N|                Y|\n",
            "| RQNQI2R3BM52A|          4|            0|          0|   N|                Y|\n",
            "| RTUIX1135HUAB|          5|            0|          0|   N|                Y|\n",
            "| RE3QSAT8TL010|          4|            0|          0|   N|                Y|\n",
            "|R14TN65IY0NUOD|          5|            0|          0|   N|                Y|\n",
            "|R3LIF8MCNH1ODF|          5|            0|          0|   N|                Y|\n",
            "|R33X0DGA4PPQ3L|          5|            3|          3|   N|                N|\n",
            "|R2DJJP7DQRT1ZW|          5|            0|          1|   N|                Y|\n",
            "|R2A8XDXW5XOT4H|          5|            0|          0|   N|                Y|\n",
            "|R3MJK3L7ER61TT|          5|            0|          0|   N|                N|\n",
            "|R38Z7XMCVDR0R5|          5|            1|          1|   N|                Y|\n",
            "|R3FFESBQXPR7S6|          4|            0|          0|   N|                Y|\n",
            "|R3QO6Z942CKH34|          5|            1|          1|   N|                Y|\n",
            "|R297119MDWMG9P|          5|            0|          0|   N|                Y|\n",
            "| R7EJRSXIXMLIY|          5|            0|          0|   N|                Y|\n",
            "|R2EBGPZD0B3TSV|          5|            0|          0|   N|                N|\n",
            "|R229VSSFBNB90C|          5|            0|          0|   N|                Y|\n",
            "|R12YCDYTDBJH3X|          5|            0|          0|   N|                Y|\n",
            "|R3DEVUNGQ2Y98S|          5|            0|          0|   N|                Y|\n",
            "+--------------+-----------+-------------+-----------+----+-----------------+\n",
            "only showing top 20 rows\n",
            "\n"
          ]
        }
      ]
    },
    {
      "cell_type": "code",
      "source": [
        "# Filter data and create new DF where total_votes is equal or greater to 20\n",
        "total_votes_df = vine_df.filter(vine_df['total_votes'] >= 20)\n",
        "total_votes_df.show()"
      ],
      "metadata": {
        "colab": {
          "base_uri": "https://localhost:8080/"
        },
        "id": "MKS4UAzFuthQ",
        "outputId": "db284d03-61c3-4c9c-b773-b3366b79d734"
      },
      "execution_count": 5,
      "outputs": [
        {
          "output_type": "stream",
          "name": "stdout",
          "text": [
            "+--------------+-----------+-------------+-----------+----+-----------------+\n",
            "|     review_id|star_rating|helpful_votes|total_votes|vine|verified_purchase|\n",
            "+--------------+-----------+-------------+-----------+----+-----------------+\n",
            "|R1S0N56H5B9SUX|          5|           30|         30|   N|                Y|\n",
            "| RCDI7Z8VCZJI9|          4|           40|         43|   N|                N|\n",
            "|R3F4225VTUO2WE|          1|            8|         33|   N|                N|\n",
            "|  R3ADPNURCCTK|          1|            1|         39|   N|                N|\n",
            "|R2LWBYC8TEUVF2|          5|           50|         53|   N|                Y|\n",
            "|R23E4EIJXID5IC|          5|           43|         43|   N|                N|\n",
            "|R1WFSWDT8L5RSJ|          4|           23|         26|   N|                N|\n",
            "|R37LMHN02KOER1|          5|           50|         50|   N|                N|\n",
            "|R297QI4VU3LMY6|          4|           41|         50|   N|                N|\n",
            "| RGNU1L1XFX33B|          3|           34|         35|   N|                N|\n",
            "|R2NPE00F48X0ET|          5|           22|         27|   N|                N|\n",
            "| RSPQFPJ4ISKS3|          5|           32|         35|   N|                Y|\n",
            "|R3U75LKYXVWRG8|          3|           18|         23|   N|                Y|\n",
            "|R2Z6WUTQEXJWCR|          5|           18|         20|   N|                Y|\n",
            "|R140Z5HP12GL1E|          5|           47|         56|   N|                Y|\n",
            "|R2WSVH9IPUO014|          1|            2|         37|   N|                N|\n",
            "|R25Q6S82PO8PHG|          5|           23|         28|   N|                Y|\n",
            "|R3HDJJN7YXFSYX|          1|            4|         58|   N|                N|\n",
            "|R18VNEEQLPQPPO|          5|          146|        153|   N|                Y|\n",
            "|R2KTDZKWNKNXPE|          5|           20|         22|   N|                Y|\n",
            "+--------------+-----------+-------------+-----------+----+-----------------+\n",
            "only showing top 20 rows\n",
            "\n"
          ]
        }
      ]
    },
    {
      "cell_type": "code",
      "source": [
        "helpful_votes_df = total_votes_df.filter(total_votes_df['helpful_votes']/total_votes_df['total_votes'] >= .5)\n",
        "helpful_votes_df.show()"
      ],
      "metadata": {
        "colab": {
          "base_uri": "https://localhost:8080/"
        },
        "id": "tVWF_2NfvJ1d",
        "outputId": "969695dc-4667-4723-c13f-8620cba1138b"
      },
      "execution_count": 6,
      "outputs": [
        {
          "output_type": "stream",
          "name": "stdout",
          "text": [
            "+--------------+-----------+-------------+-----------+----+-----------------+\n",
            "|     review_id|star_rating|helpful_votes|total_votes|vine|verified_purchase|\n",
            "+--------------+-----------+-------------+-----------+----+-----------------+\n",
            "|R1S0N56H5B9SUX|          5|           30|         30|   N|                Y|\n",
            "| RCDI7Z8VCZJI9|          4|           40|         43|   N|                N|\n",
            "|R2LWBYC8TEUVF2|          5|           50|         53|   N|                Y|\n",
            "|R23E4EIJXID5IC|          5|           43|         43|   N|                N|\n",
            "|R1WFSWDT8L5RSJ|          4|           23|         26|   N|                N|\n",
            "|R37LMHN02KOER1|          5|           50|         50|   N|                N|\n",
            "|R297QI4VU3LMY6|          4|           41|         50|   N|                N|\n",
            "| RGNU1L1XFX33B|          3|           34|         35|   N|                N|\n",
            "|R2NPE00F48X0ET|          5|           22|         27|   N|                N|\n",
            "| RSPQFPJ4ISKS3|          5|           32|         35|   N|                Y|\n",
            "|R3U75LKYXVWRG8|          3|           18|         23|   N|                Y|\n",
            "|R2Z6WUTQEXJWCR|          5|           18|         20|   N|                Y|\n",
            "|R140Z5HP12GL1E|          5|           47|         56|   N|                Y|\n",
            "|R25Q6S82PO8PHG|          5|           23|         28|   N|                Y|\n",
            "|R18VNEEQLPQPPO|          5|          146|        153|   N|                Y|\n",
            "|R2KTDZKWNKNXPE|          5|           20|         22|   N|                Y|\n",
            "|R1T2DZ27VMFSDV|          5|           18|         21|   N|                N|\n",
            "|R1L9S1598FPFFG|          5|           28|         33|   N|                Y|\n",
            "|R1C9BQD9AA2C76|          5|           50|         53|   N|                Y|\n",
            "| RXNMSLZ3KAT95|          5|           24|         25|   N|                Y|\n",
            "+--------------+-----------+-------------+-----------+----+-----------------+\n",
            "only showing top 20 rows\n",
            "\n"
          ]
        }
      ]
    },
    {
      "cell_type": "code",
      "source": [
        "# Paid\n",
        "review_df = helpful_votes_df.filter(helpful_votes_df['vine'] == 'Y')\n",
        "review_df.show()"
      ],
      "metadata": {
        "colab": {
          "base_uri": "https://localhost:8080/"
        },
        "id": "GRHBtWY4vOfw",
        "outputId": "2ca06cd4-cf1f-4ead-9006-57defe2b2666"
      },
      "execution_count": 7,
      "outputs": [
        {
          "output_type": "stream",
          "name": "stdout",
          "text": [
            "+---------+-----------+-------------+-----------+----+-----------------+\n",
            "|review_id|star_rating|helpful_votes|total_votes|vine|verified_purchase|\n",
            "+---------+-----------+-------------+-----------+----+-----------------+\n",
            "+---------+-----------+-------------+-----------+----+-----------------+\n",
            "\n"
          ]
        }
      ]
    },
    {
      "cell_type": "code",
      "source": [
        "# Unpaid\n",
        "no_review_df = helpful_votes_df.filter(helpful_votes_df['vine'] == 'N')\n",
        "no_review_df.show()"
      ],
      "metadata": {
        "colab": {
          "base_uri": "https://localhost:8080/"
        },
        "id": "MUermW3CvkKi",
        "outputId": "3add5231-62cc-4a5e-845b-dae3acd4c207"
      },
      "execution_count": 9,
      "outputs": [
        {
          "output_type": "stream",
          "name": "stdout",
          "text": [
            "+--------------+-----------+-------------+-----------+----+-----------------+\n",
            "|     review_id|star_rating|helpful_votes|total_votes|vine|verified_purchase|\n",
            "+--------------+-----------+-------------+-----------+----+-----------------+\n",
            "|R1S0N56H5B9SUX|          5|           30|         30|   N|                Y|\n",
            "| RCDI7Z8VCZJI9|          4|           40|         43|   N|                N|\n",
            "|R2LWBYC8TEUVF2|          5|           50|         53|   N|                Y|\n",
            "|R23E4EIJXID5IC|          5|           43|         43|   N|                N|\n",
            "|R1WFSWDT8L5RSJ|          4|           23|         26|   N|                N|\n",
            "|R37LMHN02KOER1|          5|           50|         50|   N|                N|\n",
            "|R297QI4VU3LMY6|          4|           41|         50|   N|                N|\n",
            "| RGNU1L1XFX33B|          3|           34|         35|   N|                N|\n",
            "|R2NPE00F48X0ET|          5|           22|         27|   N|                N|\n",
            "| RSPQFPJ4ISKS3|          5|           32|         35|   N|                Y|\n",
            "|R3U75LKYXVWRG8|          3|           18|         23|   N|                Y|\n",
            "|R2Z6WUTQEXJWCR|          5|           18|         20|   N|                Y|\n",
            "|R140Z5HP12GL1E|          5|           47|         56|   N|                Y|\n",
            "|R25Q6S82PO8PHG|          5|           23|         28|   N|                Y|\n",
            "|R18VNEEQLPQPPO|          5|          146|        153|   N|                Y|\n",
            "|R2KTDZKWNKNXPE|          5|           20|         22|   N|                Y|\n",
            "|R1T2DZ27VMFSDV|          5|           18|         21|   N|                N|\n",
            "|R1L9S1598FPFFG|          5|           28|         33|   N|                Y|\n",
            "|R1C9BQD9AA2C76|          5|           50|         53|   N|                Y|\n",
            "| RXNMSLZ3KAT95|          5|           24|         25|   N|                Y|\n",
            "+--------------+-----------+-------------+-----------+----+-----------------+\n",
            "only showing top 20 rows\n",
            "\n"
          ]
        }
      ]
    },
    {
      "cell_type": "code",
      "source": [
        "# Determine the total number of reviews, the number of 5-star reviews, and the percentage of 5-star reviews for the two types of review (paid vs unpaid).\n",
        "# Number of Paid Reviews\n",
        "review_df.count()"
      ],
      "metadata": {
        "colab": {
          "base_uri": "https://localhost:8080/"
        },
        "id": "oIjA9VYVvwJQ",
        "outputId": "0f00c071-fbbb-4537-b748-cc76a6065446"
      },
      "execution_count": 10,
      "outputs": [
        {
          "output_type": "execute_result",
          "data": {
            "text/plain": [
              "0"
            ]
          },
          "metadata": {},
          "execution_count": 10
        }
      ]
    },
    {
      "cell_type": "code",
      "source": [
        "# Number of 5-star Paid reviews\n",
        "review_df.filter(review_df['star_rating'] == 5).count()"
      ],
      "metadata": {
        "colab": {
          "base_uri": "https://localhost:8080/"
        },
        "id": "rcRLw9x7vdby",
        "outputId": "b3baf954-1d88-4a19-8302-49252c5ba4a1"
      },
      "execution_count": 8,
      "outputs": [
        {
          "output_type": "execute_result",
          "data": {
            "text/plain": [
              "0"
            ]
          },
          "metadata": {},
          "execution_count": 8
        }
      ]
    },
    {
      "cell_type": "code",
      "source": [
        "# % of 5-star Paid reviews\n",
        "review_df['star_rating']==5 / review_df.count()"
      ],
      "metadata": {
        "colab": {
          "base_uri": "https://localhost:8080/",
          "height": 184
        },
        "id": "xC7umV3Uv1ej",
        "outputId": "b49b1a64-15c5-47f3-c4c1-cd34d3d8c854"
      },
      "execution_count": 11,
      "outputs": [
        {
          "output_type": "error",
          "ename": "ZeroDivisionError",
          "evalue": "ignored",
          "traceback": [
            "\u001b[0;31m---------------------------------------------------------------------------\u001b[0m",
            "\u001b[0;31mZeroDivisionError\u001b[0m                         Traceback (most recent call last)",
            "\u001b[0;32m<ipython-input-11-4e1ee0a5e057>\u001b[0m in \u001b[0;36m<module>\u001b[0;34m()\u001b[0m\n\u001b[1;32m      1\u001b[0m \u001b[0;31m# % of 5-star Paid reviews\u001b[0m\u001b[0;34m\u001b[0m\u001b[0;34m\u001b[0m\u001b[0;34m\u001b[0m\u001b[0m\n\u001b[0;32m----> 2\u001b[0;31m \u001b[0mreview_df\u001b[0m\u001b[0;34m[\u001b[0m\u001b[0;34m'star_rating'\u001b[0m\u001b[0;34m]\u001b[0m\u001b[0;34m==\u001b[0m\u001b[0;36m5\u001b[0m \u001b[0;34m/\u001b[0m \u001b[0mreview_df\u001b[0m\u001b[0;34m.\u001b[0m\u001b[0mcount\u001b[0m\u001b[0;34m(\u001b[0m\u001b[0;34m)\u001b[0m\u001b[0;34m\u001b[0m\u001b[0;34m\u001b[0m\u001b[0m\n\u001b[0m",
            "\u001b[0;31mZeroDivisionError\u001b[0m: division by zero"
          ]
        }
      ]
    },
    {
      "cell_type": "code",
      "source": [
        "# Number of Unpaid Reviews\n",
        "no_review_df.count()"
      ],
      "metadata": {
        "colab": {
          "base_uri": "https://localhost:8080/"
        },
        "id": "0pxQut3ewE7h",
        "outputId": "2028e113-684d-4fa3-e24e-19cd44a020c5"
      },
      "execution_count": 12,
      "outputs": [
        {
          "output_type": "execute_result",
          "data": {
            "text/plain": [
              "4532"
            ]
          },
          "metadata": {},
          "execution_count": 12
        }
      ]
    },
    {
      "cell_type": "code",
      "source": [
        "# Number of Unpaid 5-star Reviews\n",
        "no_review_df.filter(no_review_df['star_rating'] == 5).count()"
      ],
      "metadata": {
        "colab": {
          "base_uri": "https://localhost:8080/"
        },
        "id": "G01gCQzQwHlC",
        "outputId": "15cdad09-f080-4477-c8e6-2d608d9061eb"
      },
      "execution_count": 13,
      "outputs": [
        {
          "output_type": "execute_result",
          "data": {
            "text/plain": [
              "2507"
            ]
          },
          "metadata": {},
          "execution_count": 13
        }
      ]
    },
    {
      "cell_type": "code",
      "source": [
        "# % of 5-star Unpaid Reviews\n",
        "no_review_df.filter(no_review_df['star_rating'] == 5).count() / no_review_df.count()"
      ],
      "metadata": {
        "colab": {
          "base_uri": "https://localhost:8080/"
        },
        "id": "oe87m4QewI-z",
        "outputId": "c27bcd72-7e32-4874-c65b-be42384b014f"
      },
      "execution_count": 14,
      "outputs": [
        {
          "output_type": "execute_result",
          "data": {
            "text/plain": [
              "0.5531774051191527"
            ]
          },
          "metadata": {},
          "execution_count": 14
        }
      ]
    }
  ]
}